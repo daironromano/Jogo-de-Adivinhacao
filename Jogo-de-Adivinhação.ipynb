{
 "cells": [
  {
   "cell_type": "code",
   "execution_count": 1,
   "metadata": {},
   "outputs": [
    {
     "name": "stdout",
     "output_type": "stream",
     "text": [
      "Bem-vindo ao jogo de adivinhação\n",
      "O objetivo tentar adivinhar o número aleatório entre 1 e 20\n",
      "Você está muito longe!\n",
      "Você está muito longe!\n",
      "Você está muito longe!\n",
      "Você está muito longe!\n",
      "Você está muito perto!\n",
      "Parabéns! Você acertou o número em 6.\n"
     ]
    }
   ],
   "source": [
    "#Jogo de adivinhação entre números aleatórios de 1 a 20\n",
    "import random \n",
    "\n",
    "#Variável que irá gerar número aleatório entre 1 e 20\n",
    "numero_aleatorio = random.randint(1, 20)\n",
    "\n",
    "#Instruções no display para o usuário\n",
    "print(\"Bem-vindo ao jogo de adivinhação\")\n",
    "print(\"O objetivo tentar adivinhar o número aleatório entre 1 e 20\")\n",
    "\n",
    "#Laço para pedir palpite do usuário e contabilizar tentativas\n",
    "tentativas = 0\n",
    "while True:\n",
    "    palpite = int(input(\"Digite seu palpite\"))\n",
    "    tentativas += 1\n",
    "    #Verificando se o papitel está correto\n",
    "    if palpite == numero_aleatorio:\n",
    "        print(f\"Parabéns! Você acertou o número em {tentativas}.\")\n",
    "        break\n",
    "    elif abs(palpite - numero_aleatorio) <= 5:\n",
    "        print(\"Você está muito perto!\")\n",
    "    else:\n",
    "        print(\"Você está muito longe!\")\n",
    "\n",
    "    #Limitando o número de tentativas\n",
    "    if tentativas == 10:\n",
    "        print(f\"Você não acertou! o número sortido era: {numero_aleatorio}\")\n",
    "        break"
   ]
  }
 ],
 "metadata": {
  "kernelspec": {
   "display_name": "base",
   "language": "python",
   "name": "python3"
  },
  "language_info": {
   "codemirror_mode": {
    "name": "ipython",
    "version": 3
   },
   "file_extension": ".py",
   "mimetype": "text/x-python",
   "name": "python",
   "nbconvert_exporter": "python",
   "pygments_lexer": "ipython3",
   "version": "3.12.7"
  }
 },
 "nbformat": 4,
 "nbformat_minor": 2
}
